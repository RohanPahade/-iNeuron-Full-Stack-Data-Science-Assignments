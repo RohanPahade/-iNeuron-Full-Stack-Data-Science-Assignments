{
 "cells": [
  {
   "cell_type": "raw",
   "metadata": {},
   "source": [
    "1. Why are functions advantageous to have in your programs?\n",
    "\n",
    "Ans. Functions, can be used to shorten the code. Like if there is certian part of code which get repeated number of times, we can create a function of that particular set of code and call that function wherever it is required."
   ]
  },
  {
   "cell_type": "raw",
   "metadata": {},
   "source": [
    "2. When does the code in a function run: when it's specified or when it's called?\n",
    "\n",
    "Ans. A code in function will run when the function called."
   ]
  },
  {
   "cell_type": "raw",
   "metadata": {},
   "source": [
    "3. What statement creates a function?\n",
    "\n",
    "Ans. \"def\" creates a function "
   ]
  },
  {
   "cell_type": "raw",
   "metadata": {},
   "source": [
    "4. What is the difference between a function and a function call?\n",
    "\n",
    "Ams. Function :  it consists of lines of code which executes only when function is called.\n",
    "     Function Call : A function call, is when you call the function in code, that is when the code inside \n",
    "                function is executed."
   ]
  },
  {
   "cell_type": "raw",
   "metadata": {},
   "source": [
    "5. How many global scopes are there in a Python program? How many local scopes?\n",
    "\n",
    "Ans. There is one global scope (which is outside the function) and one local scope (which is inside the function)."
   ]
  },
  {
   "cell_type": "raw",
   "metadata": {},
   "source": [
    "6. What happens to variables in a local scope when the function call returns?\n",
    "\n",
    "Ans. The Local scope is forgotten after the function is called."
   ]
  },
  {
   "cell_type": "raw",
   "metadata": {},
   "source": [
    "7. What is the concept of a return value? Is it possible to have a return value in an expression?\n",
    "\n",
    "Ans. Return value is the out value of the function. Yes, return value can be part of expression."
   ]
  },
  {
   "cell_type": "raw",
   "metadata": {},
   "source": [
    "8. If a function does not have a return statement, what is the return value of a call to that function?\n",
    "\n",
    "Ans. Function with no return value will result in NONE as return value when function is called."
   ]
  },
  {
   "cell_type": "raw",
   "metadata": {},
   "source": [
    "9. How do you make a function variable refer to the global variable?\n",
    "\n",
    "Ans. Using global statement. "
   ]
  },
  {
   "cell_type": "raw",
   "metadata": {},
   "source": [
    "10. What is the data type of None?\n",
    "\n",
    "Ans. data type of None is NoneType"
   ]
  },
  {
   "cell_type": "raw",
   "metadata": {},
   "source": [
    "11. What does the sentence import areallyourpetsnamederic do?\n",
    "\n",
    "Ans. It will import the module areallyourpetsnamederic"
   ]
  },
  {
   "cell_type": "raw",
   "metadata": {},
   "source": [
    "12. If you had a bacon() feature in a spam module, what would you call it after importing spam?\n",
    "\n",
    "Ans. import spam\n",
    "     spam.bacon()"
   ]
  },
  {
   "cell_type": "raw",
   "metadata": {},
   "source": [
    "13. What can you do to save a programme from crashing if it encounters an error?\n",
    "\n",
    "Ans.For saving the program from crashing due to an error,we can use Try and Except method."
   ]
  },
  {
   "cell_type": "raw",
   "metadata": {},
   "source": [
    "14. What is the purpose of the try clause? What is the purpose of the except clause?\n",
    "\n",
    "Ans. Try clause : code in which error is anticipated.\n",
    "     Except clause : Error which we are expecting from the Try clause. "
   ]
  }
 ],
 "metadata": {
  "kernelspec": {
   "display_name": "Python 3 (ipykernel)",
   "language": "python",
   "name": "python3"
  },
  "language_info": {
   "codemirror_mode": {
    "name": "ipython",
    "version": 3
   },
   "file_extension": ".py",
   "mimetype": "text/x-python",
   "name": "python",
   "nbconvert_exporter": "python",
   "pygments_lexer": "ipython3",
   "version": "3.9.7"
  }
 },
 "nbformat": 4,
 "nbformat_minor": 4
}
