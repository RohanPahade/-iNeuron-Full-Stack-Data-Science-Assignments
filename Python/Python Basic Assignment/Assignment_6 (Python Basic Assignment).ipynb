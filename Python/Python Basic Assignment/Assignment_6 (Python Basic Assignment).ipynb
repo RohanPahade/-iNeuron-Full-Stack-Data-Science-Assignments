{
 "cells": [
  {
   "cell_type": "raw",
   "metadata": {},
   "source": [
    "1. What are escape characters, and how do you use them?\n",
    "\n",
    "Ans. Escape characters are characters that doesn't represent itself when used inside string literal or character. \n",
    "     It is composed of character starting with backslash '\\'\n",
    "     for example: \\n , \\t , \\r"
   ]
  },
  {
   "cell_type": "raw",
   "metadata": {},
   "source": [
    "2. What do the escape characters n and t stand for?\n",
    "\n",
    "Ans. \\n stands for new line\n",
    "     \\t stands for tab"
   ]
  },
  {
   "cell_type": "raw",
   "metadata": {},
   "source": [
    "3. What is the way to include backslash characters in a string?\n",
    "\n",
    "Ans. print(\"Hello World, \\nMy name is Prasad.\")"
   ]
  },
  {
   "cell_type": "raw",
   "metadata": {},
   "source": [
    "4. The string \"Howl's Moving Castle\" is a correct value. Why isn't the single quote character in the word Howl's not escaped a problem?\n",
    "\n",
    "Ans. As we have used double quote to enclose the string, single quote in Howl's will not give error. If we have use the single quote to enclose the string then it will give an error."
   ]
  },
  {
   "cell_type": "code",
   "execution_count": 1,
   "metadata": {},
   "outputs": [
    {
     "name": "stdout",
     "output_type": "stream",
     "text": [
      "Hello World,\n",
      "My name is Rohan.\n",
      "This is my assingment no. 6\n"
     ]
    }
   ],
   "source": [
    "#5. How do you write a string of newlines if you don't want to use the n character?\n",
    "\n",
    "print(\"\"\"Hello World,\n",
    "My name is Rohan.\n",
    "This is my assingment no. 6\"\"\")"
   ]
  },
  {
   "cell_type": "raw",
   "metadata": {},
   "source": [
    "6. What are the values of the given expressions?\n",
    "\n",
    "'Hello, world!'[1]   = 'e'\n",
    "'Hello, world!'[0:5] = 'Hello'\n",
    "'Hello, world!'[:5]  = 'Hello'\n",
    "'Hello, world!'[3:]  = 'lo, world!'"
   ]
  },
  {
   "cell_type": "raw",
   "metadata": {},
   "source": [
    "7. What are the values of the following expressions?\n",
    "\n",
    "'Hello'.upper()           = 'HELLO'\n",
    "'Hello'.upper().isupper() =  True\n",
    "'Hello'.upper().lower()   = 'hello'"
   ]
  },
  {
   "cell_type": "raw",
   "metadata": {},
   "source": [
    "8. What are the values of the following expressions?\n",
    "\n",
    "   'Remember, remember, the fifth of July.'.split()\n",
    "   \n",
    "Ans. ['Remember,', 'remember,', 'the', 'fifth', 'of', 'July.']\n",
    "\n",
    "   '-'.join('There can only one.'.split())\n",
    "   \n",
    "Ans. 'There-can-only-one.'"
   ]
  },
  {
   "cell_type": "raw",
   "metadata": {},
   "source": [
    "9. What are the methods for right-justifying, left-justifying, and centering a string?\n",
    "\n",
    "Ans. rjust() for right justifying.\n",
    "     ljust() for left justifying.\n",
    "     centre() for centering."
   ]
  },
  {
   "cell_type": "raw",
   "metadata": {},
   "source": [
    "10. What is the best way to remove whitespace characters from the start or end?\n",
    "\n",
    "Ans. lstrip() for removing whitespace from start and \n",
    "     rstrip() for removing whitespace from end"
   ]
  }
 ],
 "metadata": {
  "kernelspec": {
   "display_name": "Python 3 (ipykernel)",
   "language": "python",
   "name": "python3"
  },
  "language_info": {
   "codemirror_mode": {
    "name": "ipython",
    "version": 3
   },
   "file_extension": ".py",
   "mimetype": "text/x-python",
   "name": "python",
   "nbconvert_exporter": "python",
   "pygments_lexer": "ipython3",
   "version": "3.9.7"
  }
 },
 "nbformat": 4,
 "nbformat_minor": 4
}
