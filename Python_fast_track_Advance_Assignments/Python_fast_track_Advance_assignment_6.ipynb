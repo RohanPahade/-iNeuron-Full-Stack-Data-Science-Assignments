{
 "cells": [
  {
   "cell_type": "markdown",
   "metadata": {},
   "source": [
    "# Python Advance Assignment 6\n",
    "\n",
    "\n",
    "**1. Explain why selenium is important in web scraping.**\n",
    "\n",
    "\n",
    "    Selenium is fast and easy to use web scrapping tool.\n",
    "    It is one of the robust web scrapping frameworks."
   ]
  },
  {
   "cell_type": "markdown",
   "metadata": {},
   "source": [
    "**2. What's the difference between scraping images and scraping websites?**\n",
    "    **Use an example to demonstrate your point.**\n",
    "\n",
    "    Web Scraping refers to the extraction of data from a website or webpage. Usually, this data is extracted on to a new       file format. For example, data from a website can be extracted to an excel spreadsheet\n",
    "    \n",
    "    \n",
    "    Web Crawling refers to the process of using bots (or spiders) to read and store all of the content on a website for         archiving or indexing purposes.\n",
    " "
   ]
  },
  {
   "cell_type": "markdown",
   "metadata": {},
   "source": [
    "**3. Explain how MongoDB indexes data.**\n",
    "\n",
    "\n",
    "    MongoDB uses multikey indexes to index the content stored in arrays. If you index a field that holds an array value,       MongoDB creates separate index entries for every element of the array. \n",
    "\n",
    "    These multikey indexes allow queries to select documents that contain arrays by matching on element or elements of the     arrays."
   ]
  },
  {
   "cell_type": "markdown",
   "metadata": {},
   "source": [
    "**4. What is the significance of the SET modifier?**\n",
    "\n",
    "\n",
    "    set() method is used to convert any of the iterable to sequence of iterable elements with distinct elements, commonly       called Set. \n",
    "\n",
    "    Parameters : Any iterable sequence like list, tuple or dictionary. Returns : An empty set if no element is passed"
   ]
  },
  {
   "cell_type": "markdown",
   "metadata": {},
   "source": [
    "**5. Explain the MongoDB aggregation framework.**\n",
    "\n",
    "\n",
    "    The MongoDB Aggregation Framework is a way to query the data from MongoDB.\n",
    "\n",
    "    It helps us to break the complex logics into a simple set of sequential operations. \n",
    " \n",
    "    Just like a waterfall model, Output from one stage is fed as an input for the next stage until the desired result is       achieved"
   ]
  },
  {
   "cell_type": "code",
   "execution_count": null,
   "metadata": {},
   "outputs": [],
   "source": []
  }
 ],
 "metadata": {
  "interpreter": {
   "hash": "55cdaa35f3bf328455cc90222d006bc0ecee02538e8f35de15acd39e8589c932"
  },
  "kernelspec": {
   "display_name": "Python 3 (ipykernel)",
   "language": "python",
   "name": "python3"
  },
  "language_info": {
   "codemirror_mode": {
    "name": "ipython",
    "version": 3
   },
   "file_extension": ".py",
   "mimetype": "text/x-python",
   "name": "python",
   "nbconvert_exporter": "python",
   "pygments_lexer": "ipython3",
   "version": "3.9.7"
  }
 },
 "nbformat": 4,
 "nbformat_minor": 2
}
