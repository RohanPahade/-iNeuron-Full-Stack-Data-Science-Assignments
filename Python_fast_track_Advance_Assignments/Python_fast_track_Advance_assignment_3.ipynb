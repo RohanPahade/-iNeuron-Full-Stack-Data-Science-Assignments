{
 "cells": [
  {
   "cell_type": "markdown",
   "metadata": {},
   "source": [
    "# Python Advance Assignment 3\n",
    "\n",
    "**1. What is the process for loading a dataset from an external source?**\n",
    "\n",
    "    Import pandas as pd\n",
    "\n",
    "    f = pd.read_fileextension(r'file path with extension')\n",
    "\n",
    "    print(f)"
   ]
  },
  {
   "cell_type": "markdown",
   "metadata": {},
   "source": [
    "**2. How can we use pandas to read JSON files?**\n",
    "\n",
    "    Import pandas as pd\n",
    "\n",
    "    f =pd.read_json(r' File path with extension ')\n",
    "\n",
    "    print(f)"
   ]
  },
  {
   "cell_type": "markdown",
   "metadata": {},
   "source": [
    "**3. Describe the significance of DASK.**\n",
    "\n",
    "\n",
    "    Dask enables efficient parallel computations on single machines by leveraging their multi-core CPUs and streaming           data efficiently from disk.\n",
    "    It can run on a distributed cluster.\n",
    "    Dask also allows the user to replace cluster with single-machine schedular which would bring down the overhead.\n",
    "    Less traing time.\n",
    "    large datasets.\n"
   ]
  },
  {
   "cell_type": "markdown",
   "metadata": {},
   "source": [
    "**4. Describe the functions of DASK.**\n",
    "\n",
    "\n",
    "    dd.read cna read data file even real data.\n",
    "\n",
    "    dask.DepDelay to run function in parallel to real data.\n",
    "\n",
    "    parallelizing a for loop with dask\n",
    "\n",
    "    dask.frames\n",
    "    \n",
    "    dask bags"
   ]
  },
  {
   "cell_type": "markdown",
   "metadata": {},
   "source": [
    "**5. Describe Cassandra's features.**\n",
    "\n",
    "\n",
    "   - Cassandra is Open source.\n",
    "   - It provides peer to peer architecture.\n",
    "   - Elastic scalability.\n",
    "   - High availabilty and fault tolerance.\n",
    "   - High performance.\n",
    "   - Column- Oriented.\n",
    "   - Tunable Consistency.\n",
    "   - schema- Free"
   ]
  },
  {
   "cell_type": "markdown",
   "metadata": {},
   "source": []
  }
 ],
 "metadata": {
  "interpreter": {
   "hash": "55cdaa35f3bf328455cc90222d006bc0ecee02538e8f35de15acd39e8589c932"
  },
  "kernelspec": {
   "display_name": "Python 3 (ipykernel)",
   "language": "python",
   "name": "python3"
  },
  "language_info": {
   "codemirror_mode": {
    "name": "ipython",
    "version": 3
   },
   "file_extension": ".py",
   "mimetype": "text/x-python",
   "name": "python",
   "nbconvert_exporter": "python",
   "pygments_lexer": "ipython3",
   "version": "3.9.7"
  }
 },
 "nbformat": 4,
 "nbformat_minor": 2
}
