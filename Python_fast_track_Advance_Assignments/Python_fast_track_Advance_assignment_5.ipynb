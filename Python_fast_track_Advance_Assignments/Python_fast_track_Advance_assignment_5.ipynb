{
 "cells": [
  {
   "cell_type": "markdown",
   "metadata": {},
   "source": [
    "# Python Advance Assignment 5\n",
    "\n",
    "**1. Explain super() in the context of inheritance.**\n",
    "\n",
    "super() is used to acess methods from parent class within a child class."
   ]
  },
  {
   "cell_type": "markdown",
   "metadata": {},
   "source": [
    "**2. Describe the file-handling system.**\n",
    "\n",
    "\n",
    "We can acess files from system using open().\n",
    "\n",
    "in which give filename or filepath and mode of file we like to open in.\n",
    "\n",
    "Modes of files are:\n",
    "\n",
    "r = read\n",
    "\n",
    "w = write\n",
    "\n",
    "a = append\n",
    "\n",
    "r+ = read and write (previous data will not be deleted)\n",
    "\n",
    "w+ = write and read (it will override existing data)\n",
    "\n",
    "a+ = append and read data (it will not override existing data)"
   ]
  },
  {
   "cell_type": "markdown",
   "metadata": {},
   "source": [
    "**3. In Python, explain multiple inheritance.**\n",
    "\n",
    "\n",
    "A class can be derived from more than one base class. \n",
    "\n",
    "class Base1:\n",
    "\n",
    "    pass\n",
    "    \n",
    "\n",
    "class Base2:\n",
    "\n",
    "    pass\n",
    "\n",
    "\n",
    "class MultiDerived(Base1, Base2):\n",
    "\n",
    "    pass"
   ]
  },
  {
   "cell_type": "markdown",
   "metadata": {},
   "source": [
    "**4. Write the MySQL query syntax for INSERT, UPDATE, and DROP.**\n",
    "\n",
    "\n",
    "for insert operation\n",
    "\n",
    "INSERT INTO  table_name( column1. column2, column3,...)\n",
    "VALUES (value1, value2, value3,...)\n",
    "\n",
    "\n",
    "\n",
    "for update operation\n",
    "\n",
    "UPDATE table_name\n",
    "SET column1 = value1, cloumn2 = value2...\n",
    "WHERE condition\n",
    "\n",
    "\n",
    "\n",
    "\n",
    "for drop operation\n",
    "\n",
    "DROP TABLE table_name\n"
   ]
  },
  {
   "cell_type": "markdown",
   "metadata": {},
   "source": [
    "**5. Describe MongoDB's features.**\n",
    "\n",
    "Design to store large scale of data and also allows to work with data very effeciently\n",
    "\n",
    "Allows document structure like Jason\n",
    "\n",
    "Flexible in nature\n",
    "\n",
    "Horizontally scalable."
   ]
  }
 ],
 "metadata": {
  "interpreter": {
   "hash": "55cdaa35f3bf328455cc90222d006bc0ecee02538e8f35de15acd39e8589c932"
  },
  "kernelspec": {
   "display_name": "Python 3.8.8 ('base')",
   "language": "python",
   "name": "python3"
  },
  "language_info": {
   "name": "python",
   "version": "3.8.8"
  },
  "orig_nbformat": 4
 },
 "nbformat": 4,
 "nbformat_minor": 2
}
