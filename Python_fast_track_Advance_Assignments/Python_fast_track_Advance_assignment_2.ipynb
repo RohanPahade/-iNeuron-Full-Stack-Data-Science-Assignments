{
 "cells": [
  {
   "cell_type": "markdown",
   "metadata": {},
   "source": [
    "# Python Advance Assignment 2\n",
    "\n",
    "**1. Explain three-dimensional data indexing.**\n",
    "\n",
    "x is a three dimension data\n",
    "\n",
    "x[0] - To get first dimension of 3D data \n",
    "\n",
    "x[0][1] - First [] is for dimension of data (i.e. 1,2,3) and second [] ia for no of row you want to get.\n",
    "\n",
    "x[3][2][1] - To get any particular data from 3D data first [] is for dimension of data, second [] is for no. row in data, last [] is for column no from data. \n",
    "\n",
    "X[0:,0] - To get first rows of each dimension.\n",
    "\n",
    "use similar logic for further interpretation."
   ]
  },
  {
   "cell_type": "markdown",
   "metadata": {},
   "source": [
    "**2. What's the difference between a series and a dataframe?**\n",
    "\n",
    "Series is a type of list in pandas which can take integer values, string values, double values and more. \n",
    "\n",
    "But in Panda series we return an object in form of list, having index starting from 0 to n, where n is the length of value series.\n",
    "\n",
    "Series can only contain single list with index, whereas dataframe can be made of more than one series or we can say that a dataframe is a collection of series that can be used to analyse the data."
   ]
  },
  {
   "cell_type": "markdown",
   "metadata": {},
   "source": [
    "**3. What role does pandas play in data cleaning?**\n",
    "\n",
    "Pandas makes data cleaning easier and fast.\n",
    "\n",
    "Pandas can detect missing values from data.\n",
    "\n",
    "Other functions like replacing, rename, merging datasets, normalizing, dublicating and exporting data, can be performed with easy and min. resistance.\n"
   ]
  },
  {
   "cell_type": "markdown",
   "metadata": {},
   "source": [
    "**4. How do you use pandas to make a data frame out of n-dimensional arrays?**\n",
    "\n",
    "To create panda data frame from np array we use following funtion:\n",
    "\n",
    "pd.DataFrame(data=''name of array'', index=''list of row names'',column = ''list of column names'' )"
   ]
  },
  {
   "cell_type": "markdown",
   "metadata": {},
   "source": [
    "**5. Explain the notion of pandas plotting.**\n",
    "\n",
    "data = series or dataframe. its the obejct for which method is called.\n",
    "\n",
    "x: lable or position. Used only if data is a dataframe.\n",
    "\n",
    "y: label, position or list of lables, position, default none. Only used if data is dataframe. \n",
    "\n",
    "str: kind of plot ot produce eg. 'line' , 'bar' , 'hist', etc.\n",
    "\n",
    "ax: axes.\n",
    "\n",
    "subplots: bool. separates subplots for each column.\n",
    "\n",
    "sharex: bool. shares x axis with subplots and makes its lable invisible.\n",
    "\n",
    "same for sharey: bool\n",
    "\n",
    "legend: bool. place legend on axis.\n",
    "\n",
    "Xlable: gives lable ot x axis. same for ylable.\n",
    "\n",
    "fontsize: alter fontsize.\n",
    "\n",
    "colorbar: plots colour bar only for hexbin and scatter."
   ]
  },
  {
   "cell_type": "markdown",
   "metadata": {},
   "source": []
  }
 ],
 "metadata": {
  "interpreter": {
   "hash": "55cdaa35f3bf328455cc90222d006bc0ecee02538e8f35de15acd39e8589c932"
  },
  "kernelspec": {
   "display_name": "Python 3.8.8 ('base')",
   "language": "python",
   "name": "python3"
  },
  "language_info": {
   "name": "python",
   "version": "3.8.8"
  },
  "orig_nbformat": 4
 },
 "nbformat": 4,
 "nbformat_minor": 2
}
